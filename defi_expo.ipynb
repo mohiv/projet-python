{
 "cells": [
  {
   "cell_type": "markdown",
   "metadata": {},
   "source": [
    "Algorithme : Sliding Window, Refenrence : https://en.wikipedia.org/wiki/Exponentiation_by_squaring#Sliding_window_metho"
   ]
  },
  {
   "cell_type": "code",
   "execution_count": 1,
   "metadata": {},
   "outputs": [],
   "source": [
    "def s_w(m, k):\n",
    "    \n",
    "    n = bin(m)  \n",
    "    n = n[2:]   # enlever du '0' de départ\n",
    "    n = n[::-1] # inverser la chaine de charactere\n",
    "\n",
    "    # comancons par le calcule des puissance impaire\n",
    "    \n",
    "    x = { 1:2, 2:4 }\n",
    "    \n",
    "    for i in range(1, 2**(k-1) ) :\n",
    "        x[2*i+1] = 2**(2*i+1)\n",
    "    \n",
    "    # nombre de multiplications effectuees jusqu'ici\n",
    "    etape = len( range(1, 2**(k-1) ) ) + 1\n",
    "\n",
    "    y, i = 1, len(n)-1\n",
    "    max_utile = 0   # représenter le variable pour enlever le coups des valeurs non utile\n",
    "\n",
    "    while i > -1 :\n",
    "        if n[i] == '0': \n",
    "            \n",
    "            y = y**2\n",
    "            i -= 1\n",
    "            etape += 1\n",
    "            \n",
    "        else :\n",
    "            # retrouve la chaine qui se termine par 1 et de longeur < k  \n",
    "            for j in range(k):\n",
    "                lower = max(i-j,0)\n",
    "                if n[lower] == '1':\n",
    "                    d = int ( n[ lower : i+1], 2)\n",
    "                    e = lower\n",
    "\n",
    "            y = y**(2**(i-e+1))\n",
    "            \n",
    "            # compter le nombre de multiplication utilisé\n",
    "            if y > 1 :\n",
    "                etape += i-e+1\n",
    "            \n",
    "            y = y*x[d]\n",
    "\n",
    "            # max_utile le variable qui reçoit le plus grand index utilise\n",
    "            max_utile = max(d, max_utile)\n",
    "            i = e-1\n",
    "\n",
    "            if y > x[ d ] :\n",
    "                etape += 1\n",
    "    \n",
    "    # on soustrait au coups le nombre des élements non utile\n",
    "    non_utile = [ 1 for i in x.keys() if i > max_utile ]\n",
    "    etape -= sum(non_utile)\n",
    "\n",
    "    return etape"
   ]
  },
  {
   "cell_type": "markdown",
   "metadata": {},
   "source": [
    "minProd() est un simple wrap de la fonction précedente afin de l'executer sur l'interval (0, k+1)"
   ]
  },
  {
   "cell_type": "code",
   "execution_count": 2,
   "metadata": {},
   "outputs": [],
   "source": [
    "def minProd(k):\n",
    "    \n",
    "    somme = 0  \n",
    "    \n",
    "    for a in range(2, k+1) :\n",
    "        max_window = len( bin(a) )-2        \n",
    "        etapes = [ s_w(a, b) for b in range(1, max_window ) ]\n",
    "        somme += min( etapes )\n",
    "\n",
    "    print( \"Sommes du nombre de multiplications necessaires à l'exponenetiation pour chauque n de ( 1 à\", k,\") =\", somme )"
   ]
  },
  {
   "cell_type": "code",
   "execution_count": 3,
   "metadata": {},
   "outputs": [
    {
     "name": "stdout",
     "output_type": "stream",
     "text": [
      "Sommes du nombre de multiplications necessaires à l'exponenetiation pour chauque n de ( 1 à 200 ) = 1603\n"
     ]
    }
   ],
   "source": [
    "minProd(k=200)"
   ]
  }
 ],
 "metadata": {
  "kernelspec": {
   "display_name": "Python 2",
   "language": "python",
   "name": "python2"
  },
  "language_info": {
   "codemirror_mode": {
    "name": "ipython",
    "version": 2
   },
   "file_extension": ".py",
   "mimetype": "text/x-python",
   "name": "python",
   "nbconvert_exporter": "python",
   "pygments_lexer": "ipython2",
   "version": "2.7.12"
  }
 },
 "nbformat": 4,
 "nbformat_minor": 2
}
